{
 "cells": [
  {
   "cell_type": "code",
   "execution_count": 1,
   "metadata": {},
   "outputs": [],
   "source": [
    "import openai \n",
    "import os \n",
    "from dotenv import load_dotenv, find_dotenv "
   ]
  },
  {
   "cell_type": "code",
   "execution_count": 2,
   "metadata": {},
   "outputs": [],
   "source": [
    "_ = load_dotenv(find_dotenv())\n",
    "openai.api_key = os.environ['OPENAI_API_KEY']"
   ]
  },
  {
   "cell_type": "code",
   "execution_count": 11,
   "metadata": {},
   "outputs": [],
   "source": [
    "from langchain.chains import RetrievalQA\n",
    "from langchain.chat_models import ChatOpenAI\n",
    "from langchain.document_loaders import CSVLoader\n",
    "from langchain.vectorstores import DocArrayInMemorySearch\n",
    "from langchain.indexes import VectorstoreIndexCreator\n",
    "from langchain.embeddings import OpenAIEmbeddings\n",
    "embeddings = OpenAIEmbeddings()"
   ]
  },
  {
   "cell_type": "code",
   "execution_count": 5,
   "metadata": {},
   "outputs": [],
   "source": [
    "file = 'mini_data.csv'\n",
    "\n",
    "loader = CSVLoader(file_path=file)"
   ]
  },
  {
   "cell_type": "code",
   "execution_count": 10,
   "metadata": {},
   "outputs": [],
   "source": [
    "docs = loader.load()"
   ]
  },
  {
   "cell_type": "code",
   "execution_count": 12,
   "metadata": {},
   "outputs": [],
   "source": [
    "db = DocArrayInMemorySearch.from_documents(\n",
    "    docs, \n",
    "    embeddings\n",
    ")"
   ]
  },
  {
   "cell_type": "code",
   "execution_count": 8,
   "metadata": {},
   "outputs": [],
   "source": [
    "query =\"list all your anime with that have an Action genre\""
   ]
  },
  {
   "cell_type": "code",
   "execution_count": 13,
   "metadata": {},
   "outputs": [
    {
     "ename": "ValidationError",
     "evalue": "2 validation errors for DocArrayDoc\ntext\n  Field required [type=missing, input_value={'embedding': [-0.0199241..., -0.03622575174808181]}, input_type=dict]\n    For further information visit https://errors.pydantic.dev/2.5/v/missing\nmetadata\n  Field required [type=missing, input_value={'embedding': [-0.0199241..., -0.03622575174808181]}, input_type=dict]\n    For further information visit https://errors.pydantic.dev/2.5/v/missing",
     "output_type": "error",
     "traceback": [
      "\u001b[0;31m---------------------------------------------------------------------------\u001b[0m",
      "\u001b[0;31mValidationError\u001b[0m                           Traceback (most recent call last)",
      "\u001b[1;32m/Users/eliasdzobo/Documents/2023 Projects/anireel-model/recommend.ipynb Cell 8\u001b[0m line \u001b[0;36m1\n\u001b[0;32m----> <a href='vscode-notebook-cell:/Users/eliasdzobo/Documents/2023%20Projects/anireel-model/recommend.ipynb#X10sZmlsZQ%3D%3D?line=0'>1</a>\u001b[0m docs \u001b[39m=\u001b[39m db\u001b[39m.\u001b[39;49msimilarity_search(query)\n",
      "File \u001b[0;32m~/Documents/2023 Projects/anireel-model/anime/lib/python3.9/site-packages/langchain/vectorstores/docarray/base.py:127\u001b[0m, in \u001b[0;36mDocArrayIndex.similarity_search\u001b[0;34m(self, query, k, **kwargs)\u001b[0m\n\u001b[1;32m    115\u001b[0m \u001b[39mdef\u001b[39;00m \u001b[39msimilarity_search\u001b[39m(\n\u001b[1;32m    116\u001b[0m     \u001b[39mself\u001b[39m, query: \u001b[39mstr\u001b[39m, k: \u001b[39mint\u001b[39m \u001b[39m=\u001b[39m \u001b[39m4\u001b[39m, \u001b[39m*\u001b[39m\u001b[39m*\u001b[39mkwargs: Any\n\u001b[1;32m    117\u001b[0m ) \u001b[39m-\u001b[39m\u001b[39m>\u001b[39m List[Document]:\n\u001b[1;32m    118\u001b[0m \u001b[39m    \u001b[39m\u001b[39m\"\"\"Return docs most similar to query.\u001b[39;00m\n\u001b[1;32m    119\u001b[0m \n\u001b[1;32m    120\u001b[0m \u001b[39m    Args:\u001b[39;00m\n\u001b[0;32m   (...)\u001b[0m\n\u001b[1;32m    125\u001b[0m \u001b[39m        List of Documents most similar to the query.\u001b[39;00m\n\u001b[1;32m    126\u001b[0m \u001b[39m    \"\"\"\u001b[39;00m\n\u001b[0;32m--> 127\u001b[0m     results \u001b[39m=\u001b[39m \u001b[39mself\u001b[39;49m\u001b[39m.\u001b[39;49msimilarity_search_with_score(query, k\u001b[39m=\u001b[39;49mk, \u001b[39m*\u001b[39;49m\u001b[39m*\u001b[39;49mkwargs)\n\u001b[1;32m    128\u001b[0m     \u001b[39mreturn\u001b[39;00m [doc \u001b[39mfor\u001b[39;00m doc, _ \u001b[39min\u001b[39;00m results]\n",
      "File \u001b[0;32m~/Documents/2023 Projects/anireel-model/anime/lib/python3.9/site-packages/langchain/vectorstores/docarray/base.py:106\u001b[0m, in \u001b[0;36mDocArrayIndex.similarity_search_with_score\u001b[0;34m(self, query, k, **kwargs)\u001b[0m\n\u001b[1;32m     94\u001b[0m \u001b[39m\u001b[39m\u001b[39m\"\"\"Return docs most similar to query.\u001b[39;00m\n\u001b[1;32m     95\u001b[0m \n\u001b[1;32m     96\u001b[0m \u001b[39mArgs:\u001b[39;00m\n\u001b[0;32m   (...)\u001b[0m\n\u001b[1;32m    103\u001b[0m \u001b[39m    Lower score represents more similarity.\u001b[39;00m\n\u001b[1;32m    104\u001b[0m \u001b[39m\"\"\"\u001b[39;00m\n\u001b[1;32m    105\u001b[0m query_embedding \u001b[39m=\u001b[39m \u001b[39mself\u001b[39m\u001b[39m.\u001b[39membedding\u001b[39m.\u001b[39membed_query(query)\n\u001b[0;32m--> 106\u001b[0m query_doc \u001b[39m=\u001b[39m \u001b[39mself\u001b[39;49m\u001b[39m.\u001b[39;49mdoc_cls(embedding\u001b[39m=\u001b[39;49mquery_embedding)  \u001b[39m# type: ignore\u001b[39;00m\n\u001b[1;32m    107\u001b[0m docs, scores \u001b[39m=\u001b[39m \u001b[39mself\u001b[39m\u001b[39m.\u001b[39mdoc_index\u001b[39m.\u001b[39mfind(query_doc, search_field\u001b[39m=\u001b[39m\u001b[39m\"\u001b[39m\u001b[39membedding\u001b[39m\u001b[39m\"\u001b[39m, limit\u001b[39m=\u001b[39mk)\n\u001b[1;32m    109\u001b[0m result \u001b[39m=\u001b[39m [\n\u001b[1;32m    110\u001b[0m     (Document(page_content\u001b[39m=\u001b[39mdoc\u001b[39m.\u001b[39mtext, metadata\u001b[39m=\u001b[39mdoc\u001b[39m.\u001b[39mmetadata), score)\n\u001b[1;32m    111\u001b[0m     \u001b[39mfor\u001b[39;00m doc, score \u001b[39min\u001b[39;00m \u001b[39mzip\u001b[39m(docs, scores)\n\u001b[1;32m    112\u001b[0m ]\n",
      "File \u001b[0;32m~/Documents/2023 Projects/anireel-model/anime/lib/python3.9/site-packages/pydantic/main.py:164\u001b[0m, in \u001b[0;36mBaseModel.__init__\u001b[0;34m(__pydantic_self__, **data)\u001b[0m\n\u001b[1;32m    162\u001b[0m \u001b[39m# `__tracebackhide__` tells pytest and some other tools to omit this function from tracebacks\u001b[39;00m\n\u001b[1;32m    163\u001b[0m __tracebackhide__ \u001b[39m=\u001b[39m \u001b[39mTrue\u001b[39;00m\n\u001b[0;32m--> 164\u001b[0m __pydantic_self__\u001b[39m.\u001b[39;49m__pydantic_validator__\u001b[39m.\u001b[39;49mvalidate_python(data, self_instance\u001b[39m=\u001b[39;49m__pydantic_self__)\n",
      "\u001b[0;31mValidationError\u001b[0m: 2 validation errors for DocArrayDoc\ntext\n  Field required [type=missing, input_value={'embedding': [-0.0199241..., -0.03622575174808181]}, input_type=dict]\n    For further information visit https://errors.pydantic.dev/2.5/v/missing\nmetadata\n  Field required [type=missing, input_value={'embedding': [-0.0199241..., -0.03622575174808181]}, input_type=dict]\n    For further information visit https://errors.pydantic.dev/2.5/v/missing"
     ]
    }
   ],
   "source": [
    "docs = db.similarity_search(query)"
   ]
  },
  {
   "cell_type": "code",
   "execution_count": null,
   "metadata": {},
   "outputs": [],
   "source": []
  }
 ],
 "metadata": {
  "kernelspec": {
   "display_name": "anime",
   "language": "python",
   "name": "python3"
  },
  "language_info": {
   "codemirror_mode": {
    "name": "ipython",
    "version": 3
   },
   "file_extension": ".py",
   "mimetype": "text/x-python",
   "name": "python",
   "nbconvert_exporter": "python",
   "pygments_lexer": "ipython3",
   "version": "3.9.12"
  }
 },
 "nbformat": 4,
 "nbformat_minor": 2
}
